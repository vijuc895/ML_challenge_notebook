{
 "cells": [
  {
   "cell_type": "markdown",
   "metadata": {},
   "source": [
    "This notebook consist of Basic Exploratory data analysis and Modelling Techniques I had used to secure a rank under 20.\n",
    "My rank was 14th out of around 7400 participants\n",
    "\n",
    "Here is the link of leaderboard --https://www.hackerearth.com/challenges/competitive/airplane-accident-severity-hackerearth-machine-learning-challenge/leaderboard/how-severe-can-an-airplane-accident-be-03e7a3f1/page/149/\n"
   ]
  },
  {
   "cell_type": "code",
   "execution_count": 31,
   "metadata": {},
   "outputs": [],
   "source": [
    "import numpy as np\n",
    "import random\n",
    "import pandas as pd\n",
    "import matplotlib.pyplot as plt\n",
    "import seaborn as sns\n",
    "import gc\n",
    "import os\n",
    "import math\n",
    "\n",
    "%matplotlib inline\n",
    "\n",
    "\n",
    "plt.rcParams['figure.figsize'] = [15, 8]\n",
    "plt.style.use(\"fivethirtyeight\")\n",
    "\n",
    "import warnings\n",
    "warnings.simplefilter('ignore')\n",
    "\n",
    "pd.options.display.max_rows = 500\n",
    "pd.options.display.max_columns = 500\n",
    "\n",
    "from sklearn.preprocessing import LabelEncoder\n",
    "from sklearn.model_selection import train_test_split, StratifiedKFold,KFold,TimeSeriesSplit,cross_val_score\n",
    "\n",
    "\n",
    "\n",
    "# Classifier\n",
    "from sklearn.linear_model import LogisticRegression\n",
    "from sklearn.neighbors import KNeighborsClassifier\n",
    "from sklearn.svm import SVC\n",
    "from sklearn.tree import DecisionTreeClassifier, ExtraTreeClassifier\n",
    "from sklearn.ensemble import AdaBoostClassifier, RandomForestClassifier, BaggingClassifier, ExtraTreesClassifier, GradientBoostingClassifier, VotingClassifier\n",
    "\n",
    "import xgboost as xgb\n",
    "import lightgbm as lgb\n",
    "#!pip3 install catboost\n",
    "import catboost as cat\n",
    "\n",
    "# Metrics\n",
    "from sklearn.metrics import roc_auc_score\n",
    "from sklearn.metrics import make_scorer\n",
    "\n"
   ]
  },
  {
   "cell_type": "code",
   "execution_count": 32,
   "metadata": {},
   "outputs": [
    {
     "name": "stdout",
     "output_type": "stream",
     "text": [
      "Train Shape : (10000, 12)\n",
      "Test Shape: (2500, 11)\n"
     ]
    }
   ],
   "source": [
    "train = pd.read_csv(\"data/train.csv\")\n",
    "test= pd.read_csv(\"data/test.csv\")\n",
    "sample=pd.read_csv(\"data/sample_submission.csv\")\n",
    "data = pd.concat([train, test], ignore_index=True)\n",
    "\n",
    "print(\"Train Shape : {}\\nTest Shape: {}\".format(train.shape, test.shape))"
   ]
  },
  {
   "cell_type": "code",
   "execution_count": 33,
   "metadata": {
    "scrolled": true
   },
   "outputs": [
    {
     "data": {
      "text/html": [
       "<div>\n",
       "<style scoped>\n",
       "    .dataframe tbody tr th:only-of-type {\n",
       "        vertical-align: middle;\n",
       "    }\n",
       "\n",
       "    .dataframe tbody tr th {\n",
       "        vertical-align: top;\n",
       "    }\n",
       "\n",
       "    .dataframe thead th {\n",
       "        text-align: right;\n",
       "    }\n",
       "</style>\n",
       "<table border=\"1\" class=\"dataframe\">\n",
       "  <thead>\n",
       "    <tr style=\"text-align: right;\">\n",
       "      <th></th>\n",
       "      <th>Severity</th>\n",
       "      <th>Safety_Score</th>\n",
       "      <th>Days_Since_Inspection</th>\n",
       "      <th>Total_Safety_Complaints</th>\n",
       "      <th>Control_Metric</th>\n",
       "      <th>Turbulence_In_gforces</th>\n",
       "      <th>Cabin_Temperature</th>\n",
       "      <th>Accident_Type_Code</th>\n",
       "      <th>Max_Elevation</th>\n",
       "      <th>Violations</th>\n",
       "      <th>Adverse_Weather_Metric</th>\n",
       "      <th>Accident_ID</th>\n",
       "    </tr>\n",
       "  </thead>\n",
       "  <tbody>\n",
       "    <tr>\n",
       "      <td>0</td>\n",
       "      <td>Minor_Damage_And_Injuries</td>\n",
       "      <td>49.223744</td>\n",
       "      <td>14</td>\n",
       "      <td>22</td>\n",
       "      <td>71.285324</td>\n",
       "      <td>0.272118</td>\n",
       "      <td>78.04</td>\n",
       "      <td>2</td>\n",
       "      <td>31335.476824</td>\n",
       "      <td>3</td>\n",
       "      <td>0.424352</td>\n",
       "      <td>7570</td>\n",
       "    </tr>\n",
       "    <tr>\n",
       "      <td>1</td>\n",
       "      <td>Minor_Damage_And_Injuries</td>\n",
       "      <td>62.465753</td>\n",
       "      <td>10</td>\n",
       "      <td>27</td>\n",
       "      <td>72.288058</td>\n",
       "      <td>0.423939</td>\n",
       "      <td>84.54</td>\n",
       "      <td>2</td>\n",
       "      <td>26024.711057</td>\n",
       "      <td>2</td>\n",
       "      <td>0.352350</td>\n",
       "      <td>12128</td>\n",
       "    </tr>\n",
       "    <tr>\n",
       "      <td>2</td>\n",
       "      <td>Significant_Damage_And_Fatalities</td>\n",
       "      <td>63.059361</td>\n",
       "      <td>13</td>\n",
       "      <td>16</td>\n",
       "      <td>66.362808</td>\n",
       "      <td>0.322604</td>\n",
       "      <td>78.86</td>\n",
       "      <td>7</td>\n",
       "      <td>39269.053927</td>\n",
       "      <td>3</td>\n",
       "      <td>0.003364</td>\n",
       "      <td>2181</td>\n",
       "    </tr>\n",
       "    <tr>\n",
       "      <td>3</td>\n",
       "      <td>Significant_Damage_And_Serious_Injuries</td>\n",
       "      <td>48.082192</td>\n",
       "      <td>11</td>\n",
       "      <td>9</td>\n",
       "      <td>74.703737</td>\n",
       "      <td>0.337029</td>\n",
       "      <td>81.79</td>\n",
       "      <td>3</td>\n",
       "      <td>42771.499200</td>\n",
       "      <td>1</td>\n",
       "      <td>0.211728</td>\n",
       "      <td>5946</td>\n",
       "    </tr>\n",
       "    <tr>\n",
       "      <td>4</td>\n",
       "      <td>Significant_Damage_And_Fatalities</td>\n",
       "      <td>26.484018</td>\n",
       "      <td>13</td>\n",
       "      <td>25</td>\n",
       "      <td>47.948952</td>\n",
       "      <td>0.541140</td>\n",
       "      <td>77.16</td>\n",
       "      <td>3</td>\n",
       "      <td>35509.228515</td>\n",
       "      <td>2</td>\n",
       "      <td>0.176883</td>\n",
       "      <td>9054</td>\n",
       "    </tr>\n",
       "  </tbody>\n",
       "</table>\n",
       "</div>"
      ],
      "text/plain": [
       "                                  Severity  Safety_Score  \\\n",
       "0                Minor_Damage_And_Injuries     49.223744   \n",
       "1                Minor_Damage_And_Injuries     62.465753   \n",
       "2        Significant_Damage_And_Fatalities     63.059361   \n",
       "3  Significant_Damage_And_Serious_Injuries     48.082192   \n",
       "4        Significant_Damage_And_Fatalities     26.484018   \n",
       "\n",
       "   Days_Since_Inspection  Total_Safety_Complaints  Control_Metric  \\\n",
       "0                     14                       22       71.285324   \n",
       "1                     10                       27       72.288058   \n",
       "2                     13                       16       66.362808   \n",
       "3                     11                        9       74.703737   \n",
       "4                     13                       25       47.948952   \n",
       "\n",
       "   Turbulence_In_gforces  Cabin_Temperature  Accident_Type_Code  \\\n",
       "0               0.272118              78.04                   2   \n",
       "1               0.423939              84.54                   2   \n",
       "2               0.322604              78.86                   7   \n",
       "3               0.337029              81.79                   3   \n",
       "4               0.541140              77.16                   3   \n",
       "\n",
       "   Max_Elevation  Violations  Adverse_Weather_Metric  Accident_ID  \n",
       "0   31335.476824           3                0.424352         7570  \n",
       "1   26024.711057           2                0.352350        12128  \n",
       "2   39269.053927           3                0.003364         2181  \n",
       "3   42771.499200           1                0.211728         5946  \n",
       "4   35509.228515           2                0.176883         9054  "
      ]
     },
     "execution_count": 33,
     "metadata": {},
     "output_type": "execute_result"
    }
   ],
   "source": [
    "train.head()"
   ]
  },
  {
   "cell_type": "code",
   "execution_count": 34,
   "metadata": {},
   "outputs": [
    {
     "data": {
      "text/plain": [
       "Highly_Fatal_And_Damaging                  3049\n",
       "Significant_Damage_And_Serious_Injuries    2729\n",
       "Minor_Damage_And_Injuries                  2527\n",
       "Significant_Damage_And_Fatalities          1695\n",
       "Name: Severity, dtype: int64"
      ]
     },
     "execution_count": 34,
     "metadata": {},
     "output_type": "execute_result"
    }
   ],
   "source": [
    "train.Severity.value_counts()"
   ]
  },
  {
   "cell_type": "markdown",
   "metadata": {},
   "source": [
    "#### All dataset is numeric there is no categorical feature except Accident_Type_Code"
   ]
  },
  {
   "cell_type": "code",
   "execution_count": 35,
   "metadata": {},
   "outputs": [
    {
     "data": {
      "text/plain": [
       "Highly_Fatal_And_Damaging                  3049\n",
       "Significant_Damage_And_Serious_Injuries    2729\n",
       "Minor_Damage_And_Injuries                  2527\n",
       "Significant_Damage_And_Fatalities          1695\n",
       "Name: Severity, dtype: int64"
      ]
     },
     "execution_count": 35,
     "metadata": {},
     "output_type": "execute_result"
    }
   ],
   "source": [
    "train[\"Severity\"].value_counts()"
   ]
  },
  {
   "cell_type": "code",
   "execution_count": 36,
   "metadata": {},
   "outputs": [
    {
     "data": {
      "image/png": "[encoded data removed]",
      "text/plain": [
       "<Figure size 1080x576 with 1 Axes>"
      ]
     },
     "metadata": {},
     "output_type": "display_data"
    }
   ],
   "source": [
    "sns.countplot(train[\"Severity\"])\n",
    "plt.show()"
   ]
  },
  {
   "cell_type": "markdown",
   "metadata": {},
   "source": [
    "##### Seems to balanced dataset as all class having equal probability."
   ]
  },
  {
   "cell_type": "code",
   "execution_count": 37,
   "metadata": {},
   "outputs": [
    {
     "data": {
      "text/plain": [
       "Severity                   0\n",
       "Safety_Score               0\n",
       "Days_Since_Inspection      0\n",
       "Total_Safety_Complaints    0\n",
       "Control_Metric             0\n",
       "Turbulence_In_gforces      0\n",
       "Cabin_Temperature          0\n",
       "Accident_Type_Code         0\n",
       "Max_Elevation              0\n",
       "Violations                 0\n",
       "Adverse_Weather_Metric     0\n",
       "Accident_ID                0\n",
       "dtype: int64"
      ]
     },
     "execution_count": 37,
     "metadata": {},
     "output_type": "execute_result"
    }
   ],
   "source": [
    "# Check for null values\n",
    "train.isnull().sum()"
   ]
  },
  {
   "cell_type": "code",
   "execution_count": 38,
   "metadata": {},
   "outputs": [
    {
     "data": {
      "text/html": [
       "<div>\n",
       "<style scoped>\n",
       "    .dataframe tbody tr th:only-of-type {\n",
       "        vertical-align: middle;\n",
       "    }\n",
       "\n",
       "    .dataframe tbody tr th {\n",
       "        vertical-align: top;\n",
       "    }\n",
       "\n",
       "    .dataframe thead th {\n",
       "        text-align: right;\n",
       "    }\n",
       "</style>\n",
       "<table border=\"1\" class=\"dataframe\">\n",
       "  <thead>\n",
       "    <tr style=\"text-align: right;\">\n",
       "      <th></th>\n",
       "      <th>Safety_Score</th>\n",
       "      <th>Days_Since_Inspection</th>\n",
       "      <th>Total_Safety_Complaints</th>\n",
       "      <th>Control_Metric</th>\n",
       "      <th>Turbulence_In_gforces</th>\n",
       "      <th>Cabin_Temperature</th>\n",
       "      <th>Accident_Type_Code</th>\n",
       "      <th>Max_Elevation</th>\n",
       "      <th>Violations</th>\n",
       "      <th>Adverse_Weather_Metric</th>\n",
       "      <th>Accident_ID</th>\n",
       "    </tr>\n",
       "  </thead>\n",
       "  <tbody>\n",
       "    <tr>\n",
       "      <td>count</td>\n",
       "      <td>10000.000000</td>\n",
       "      <td>10000.000000</td>\n",
       "      <td>10000.000000</td>\n",
       "      <td>10000.000000</td>\n",
       "      <td>10000.000000</td>\n",
       "      <td>10000.000000</td>\n",
       "      <td>10000.000000</td>\n",
       "      <td>10000.000000</td>\n",
       "      <td>10000.00000</td>\n",
       "      <td>10000.000000</td>\n",
       "      <td>10000.000000</td>\n",
       "    </tr>\n",
       "    <tr>\n",
       "      <td>mean</td>\n",
       "      <td>41.876406</td>\n",
       "      <td>12.931100</td>\n",
       "      <td>6.564300</td>\n",
       "      <td>65.145324</td>\n",
       "      <td>0.381495</td>\n",
       "      <td>79.969331</td>\n",
       "      <td>3.814900</td>\n",
       "      <td>32001.803282</td>\n",
       "      <td>2.01220</td>\n",
       "      <td>0.255635</td>\n",
       "      <td>6266.554200</td>\n",
       "    </tr>\n",
       "    <tr>\n",
       "      <td>std</td>\n",
       "      <td>16.138072</td>\n",
       "      <td>3.539803</td>\n",
       "      <td>6.971982</td>\n",
       "      <td>11.882934</td>\n",
       "      <td>0.121301</td>\n",
       "      <td>2.759739</td>\n",
       "      <td>1.902577</td>\n",
       "      <td>9431.995196</td>\n",
       "      <td>1.03998</td>\n",
       "      <td>0.381128</td>\n",
       "      <td>3610.170288</td>\n",
       "    </tr>\n",
       "    <tr>\n",
       "      <td>min</td>\n",
       "      <td>0.000000</td>\n",
       "      <td>1.000000</td>\n",
       "      <td>0.000000</td>\n",
       "      <td>0.000000</td>\n",
       "      <td>0.134000</td>\n",
       "      <td>74.740000</td>\n",
       "      <td>1.000000</td>\n",
       "      <td>831.695553</td>\n",
       "      <td>0.00000</td>\n",
       "      <td>0.000316</td>\n",
       "      <td>2.000000</td>\n",
       "    </tr>\n",
       "    <tr>\n",
       "      <td>25%</td>\n",
       "      <td>30.593607</td>\n",
       "      <td>11.000000</td>\n",
       "      <td>2.000000</td>\n",
       "      <td>56.927985</td>\n",
       "      <td>0.293665</td>\n",
       "      <td>77.960000</td>\n",
       "      <td>2.000000</td>\n",
       "      <td>25757.636908</td>\n",
       "      <td>1.00000</td>\n",
       "      <td>0.012063</td>\n",
       "      <td>3139.750000</td>\n",
       "    </tr>\n",
       "    <tr>\n",
       "      <td>50%</td>\n",
       "      <td>41.278539</td>\n",
       "      <td>13.000000</td>\n",
       "      <td>4.000000</td>\n",
       "      <td>65.587967</td>\n",
       "      <td>0.365879</td>\n",
       "      <td>79.540000</td>\n",
       "      <td>4.000000</td>\n",
       "      <td>32060.336419</td>\n",
       "      <td>2.00000</td>\n",
       "      <td>0.074467</td>\n",
       "      <td>6280.500000</td>\n",
       "    </tr>\n",
       "    <tr>\n",
       "      <td>75%</td>\n",
       "      <td>52.511416</td>\n",
       "      <td>15.000000</td>\n",
       "      <td>9.000000</td>\n",
       "      <td>73.336372</td>\n",
       "      <td>0.451346</td>\n",
       "      <td>81.560000</td>\n",
       "      <td>5.000000</td>\n",
       "      <td>38380.641513</td>\n",
       "      <td>3.00000</td>\n",
       "      <td>0.354059</td>\n",
       "      <td>9391.500000</td>\n",
       "    </tr>\n",
       "    <tr>\n",
       "      <td>max</td>\n",
       "      <td>100.000000</td>\n",
       "      <td>23.000000</td>\n",
       "      <td>54.000000</td>\n",
       "      <td>100.000000</td>\n",
       "      <td>0.882648</td>\n",
       "      <td>97.510000</td>\n",
       "      <td>7.000000</td>\n",
       "      <td>64297.651218</td>\n",
       "      <td>5.00000</td>\n",
       "      <td>2.365378</td>\n",
       "      <td>12500.000000</td>\n",
       "    </tr>\n",
       "  </tbody>\n",
       "</table>\n",
       "</div>"
      ],
      "text/plain": [
       "       Safety_Score  Days_Since_Inspection  Total_Safety_Complaints  \\\n",
       "count  10000.000000           10000.000000             10000.000000   \n",
       "mean      41.876406              12.931100                 6.564300   \n",
       "std       16.138072               3.539803                 6.971982   \n",
       "min        0.000000               1.000000                 0.000000   \n",
       "25%       30.593607              11.000000                 2.000000   \n",
       "50%       41.278539              13.000000                 4.000000   \n",
       "75%       52.511416              15.000000                 9.000000   \n",
       "max      100.000000              23.000000                54.000000   \n",
       "\n",
       "       Control_Metric  Turbulence_In_gforces  Cabin_Temperature  \\\n",
       "count    10000.000000           10000.000000       10000.000000   \n",
       "mean        65.145324               0.381495          79.969331   \n",
       "std         11.882934               0.121301           2.759739   \n",
       "min          0.000000               0.134000          74.740000   \n",
       "25%         56.927985               0.293665          77.960000   \n",
       "50%         65.587967               0.365879          79.540000   \n",
       "75%         73.336372               0.451346          81.560000   \n",
       "max        100.000000               0.882648          97.510000   \n",
       "\n",
       "       Accident_Type_Code  Max_Elevation   Violations  Adverse_Weather_Metric  \\\n",
       "count        10000.000000   10000.000000  10000.00000            10000.000000   \n",
       "mean             3.814900   32001.803282      2.01220                0.255635   \n",
       "std              1.902577    9431.995196      1.03998                0.381128   \n",
       "min              1.000000     831.695553      0.00000                0.000316   \n",
       "25%              2.000000   25757.636908      1.00000                0.012063   \n",
       "50%              4.000000   32060.336419      2.00000                0.074467   \n",
       "75%              5.000000   38380.641513      3.00000                0.354059   \n",
       "max              7.000000   64297.651218      5.00000                2.365378   \n",
       "\n",
       "        Accident_ID  \n",
       "count  10000.000000  \n",
       "mean    6266.554200  \n",
       "std     3610.170288  \n",
       "min        2.000000  \n",
       "25%     3139.750000  \n",
       "50%     6280.500000  \n",
       "75%     9391.500000  \n",
       "max    12500.000000  "
      ]
     },
     "execution_count": 38,
     "metadata": {},
     "output_type": "execute_result"
    }
   ],
   "source": [
    "train.describe()"
   ]
  },
  {
   "cell_type": "code",
   "execution_count": 39,
   "metadata": {},
   "outputs": [
    {
     "data": {
      "text/plain": [
       "0                     Minor_Damage_And_Injuries\n",
       "1                     Minor_Damage_And_Injuries\n",
       "2             Significant_Damage_And_Fatalities\n",
       "3       Significant_Damage_And_Serious_Injuries\n",
       "4             Significant_Damage_And_Fatalities\n",
       "                         ...                   \n",
       "9995    Significant_Damage_And_Serious_Injuries\n",
       "9996                  Highly_Fatal_And_Damaging\n",
       "9997    Significant_Damage_And_Serious_Injuries\n",
       "9998                  Minor_Damage_And_Injuries\n",
       "9999                  Highly_Fatal_And_Damaging\n",
       "Name: Severity, Length: 10000, dtype: object"
      ]
     },
     "execution_count": 39,
     "metadata": {},
     "output_type": "execute_result"
    }
   ],
   "source": [
    "train[\"Severity\"]"
   ]
  },
  {
   "cell_type": "code",
   "execution_count": 40,
   "metadata": {},
   "outputs": [],
   "source": [
    "encode = LabelEncoder()\n",
    "train.Severity = encode.fit_transform(train.Severity)"
   ]
  },
  {
   "cell_type": "code",
   "execution_count": 41,
   "metadata": {},
   "outputs": [
    {
     "data": {
      "text/html": [
       "<div>\n",
       "<style scoped>\n",
       "    .dataframe tbody tr th:only-of-type {\n",
       "        vertical-align: middle;\n",
       "    }\n",
       "\n",
       "    .dataframe tbody tr th {\n",
       "        vertical-align: top;\n",
       "    }\n",
       "\n",
       "    .dataframe thead th {\n",
       "        text-align: right;\n",
       "    }\n",
       "</style>\n",
       "<table border=\"1\" class=\"dataframe\">\n",
       "  <thead>\n",
       "    <tr style=\"text-align: right;\">\n",
       "      <th></th>\n",
       "      <th>Severity</th>\n",
       "      <th>Safety_Score</th>\n",
       "      <th>Days_Since_Inspection</th>\n",
       "      <th>Total_Safety_Complaints</th>\n",
       "      <th>Control_Metric</th>\n",
       "      <th>Turbulence_In_gforces</th>\n",
       "      <th>Cabin_Temperature</th>\n",
       "      <th>Accident_Type_Code</th>\n",
       "      <th>Max_Elevation</th>\n",
       "      <th>Violations</th>\n",
       "      <th>Adverse_Weather_Metric</th>\n",
       "      <th>Accident_ID</th>\n",
       "    </tr>\n",
       "  </thead>\n",
       "  <tbody>\n",
       "    <tr>\n",
       "      <td>0</td>\n",
       "      <td>1</td>\n",
       "      <td>49.223744</td>\n",
       "      <td>14</td>\n",
       "      <td>22</td>\n",
       "      <td>71.285324</td>\n",
       "      <td>0.272118</td>\n",
       "      <td>78.04</td>\n",
       "      <td>2</td>\n",
       "      <td>31335.476824</td>\n",
       "      <td>3</td>\n",
       "      <td>0.424352</td>\n",
       "      <td>7570</td>\n",
       "    </tr>\n",
       "    <tr>\n",
       "      <td>1</td>\n",
       "      <td>1</td>\n",
       "      <td>62.465753</td>\n",
       "      <td>10</td>\n",
       "      <td>27</td>\n",
       "      <td>72.288058</td>\n",
       "      <td>0.423939</td>\n",
       "      <td>84.54</td>\n",
       "      <td>2</td>\n",
       "      <td>26024.711057</td>\n",
       "      <td>2</td>\n",
       "      <td>0.352350</td>\n",
       "      <td>12128</td>\n",
       "    </tr>\n",
       "    <tr>\n",
       "      <td>2</td>\n",
       "      <td>2</td>\n",
       "      <td>63.059361</td>\n",
       "      <td>13</td>\n",
       "      <td>16</td>\n",
       "      <td>66.362808</td>\n",
       "      <td>0.322604</td>\n",
       "      <td>78.86</td>\n",
       "      <td>7</td>\n",
       "      <td>39269.053927</td>\n",
       "      <td>3</td>\n",
       "      <td>0.003364</td>\n",
       "      <td>2181</td>\n",
       "    </tr>\n",
       "    <tr>\n",
       "      <td>3</td>\n",
       "      <td>3</td>\n",
       "      <td>48.082192</td>\n",
       "      <td>11</td>\n",
       "      <td>9</td>\n",
       "      <td>74.703737</td>\n",
       "      <td>0.337029</td>\n",
       "      <td>81.79</td>\n",
       "      <td>3</td>\n",
       "      <td>42771.499200</td>\n",
       "      <td>1</td>\n",
       "      <td>0.211728</td>\n",
       "      <td>5946</td>\n",
       "    </tr>\n",
       "    <tr>\n",
       "      <td>4</td>\n",
       "      <td>2</td>\n",
       "      <td>26.484018</td>\n",
       "      <td>13</td>\n",
       "      <td>25</td>\n",
       "      <td>47.948952</td>\n",
       "      <td>0.541140</td>\n",
       "      <td>77.16</td>\n",
       "      <td>3</td>\n",
       "      <td>35509.228515</td>\n",
       "      <td>2</td>\n",
       "      <td>0.176883</td>\n",
       "      <td>9054</td>\n",
       "    </tr>\n",
       "  </tbody>\n",
       "</table>\n",
       "</div>"
      ],
      "text/plain": [
       "   Severity  Safety_Score  Days_Since_Inspection  Total_Safety_Complaints  \\\n",
       "0         1     49.223744                     14                       22   \n",
       "1         1     62.465753                     10                       27   \n",
       "2         2     63.059361                     13                       16   \n",
       "3         3     48.082192                     11                        9   \n",
       "4         2     26.484018                     13                       25   \n",
       "\n",
       "   Control_Metric  Turbulence_In_gforces  Cabin_Temperature  \\\n",
       "0       71.285324               0.272118              78.04   \n",
       "1       72.288058               0.423939              84.54   \n",
       "2       66.362808               0.322604              78.86   \n",
       "3       74.703737               0.337029              81.79   \n",
       "4       47.948952               0.541140              77.16   \n",
       "\n",
       "   Accident_Type_Code  Max_Elevation  Violations  Adverse_Weather_Metric  \\\n",
       "0                   2   31335.476824           3                0.424352   \n",
       "1                   2   26024.711057           2                0.352350   \n",
       "2                   7   39269.053927           3                0.003364   \n",
       "3                   3   42771.499200           1                0.211728   \n",
       "4                   3   35509.228515           2                0.176883   \n",
       "\n",
       "   Accident_ID  \n",
       "0         7570  \n",
       "1        12128  \n",
       "2         2181  \n",
       "3         5946  \n",
       "4         9054  "
      ]
     },
     "execution_count": 41,
     "metadata": {},
     "output_type": "execute_result"
    }
   ],
   "source": [
    "train.head()"
   ]
  },
  {
   "cell_type": "code",
   "execution_count": 42,
   "metadata": {},
   "outputs": [
    {
     "data": {
      "image/png": "[encoded data removed]",
      "text/plain": [
       "<Figure size 936x576 with 1 Axes>"
      ]
     },
     "metadata": {},
     "output_type": "display_data"
    }
   ],
   "source": [
    "plt.figure(figsize=(13,8))\n",
    "sns.distplot(train['Safety_Score'], kde=False)\n",
    "plt.show()"
   ]
  },
  {
   "cell_type": "code",
   "execution_count": 43,
   "metadata": {},
   "outputs": [
    {
     "data": {
      "image/png": "[encoded data removed]",
      "text/plain": [
       "<Figure size 936x576 with 1 Axes>"
      ]
     },
     "metadata": {},
     "output_type": "display_data"
    }
   ],
   "source": [
    "plt.figure(figsize=(13,8))\n",
    "sns.distplot(train['Days_Since_Inspection'], kde=False)\n",
    "plt.show()"
   ]
  },
  {
   "cell_type": "code",
   "execution_count": 44,
   "metadata": {},
   "outputs": [
    {
     "data": {
      "image/png": "[encoded data removed]",
      "text/plain": [
       "<Figure size 936x576 with 1 Axes>"
      ]
     },
     "metadata": {},
     "output_type": "display_data"
    }
   ],
   "source": [
    "plt.figure(figsize=(13,8))\n",
    "sns.distplot(train['Total_Safety_Complaints'], kde=False)\n",
    "plt.show()"
   ]
  },
  {
   "cell_type": "code",
   "execution_count": 45,
   "metadata": {},
   "outputs": [
    {
     "data": {
      "image/png": "[encoded data removed]",
      "text/plain": [
       "<Figure size 936x576 with 1 Axes>"
      ]
     },
     "metadata": {},
     "output_type": "display_data"
    }
   ],
   "source": [
    "plt.figure(figsize=(13,8))\n",
    "sns.distplot(train['Control_Metric'], kde=False)\n",
    "plt.show()"
   ]
  },
  {
   "cell_type": "code",
   "execution_count": 46,
   "metadata": {},
   "outputs": [
    {
     "data": {
      "image/png": "[encoded data removed]",
      "text/plain": [
       "<Figure size 936x576 with 1 Axes>"
      ]
     },
     "metadata": {},
     "output_type": "display_data"
    }
   ],
   "source": [
    "plt.figure(figsize=(13,8))\n",
    "sns.distplot(train['Turbulence_In_gforces'], kde=False)\n",
    "plt.show()"
   ]
  },
  {
   "cell_type": "code",
   "execution_count": 47,
   "metadata": {},
   "outputs": [
    {
     "data": {
      "image/png": "[encoded data removed]",
      "text/plain": [
       "<Figure size 936x576 with 1 Axes>"
      ]
     },
     "metadata": {},
     "output_type": "display_data"
    }
   ],
   "source": [
    "plt.figure(figsize=(13,8))\n",
    "sns.distplot(train['Cabin_Temperature'], kde=False)\n",
    "plt.show()"
   ]
  },
  {
   "cell_type": "code",
   "execution_count": 48,
   "metadata": {},
   "outputs": [
    {
     "data": {
      "image/png": "[encoded data removed]",
      "text/plain": [
       "<Figure size 936x576 with 1 Axes>"
      ]
     },
     "metadata": {},
     "output_type": "display_data"
    }
   ],
   "source": [
    "plt.figure(figsize=(13,8))\n",
    "sns.distplot(train['Max_Elevation'], kde=False)\n",
    "plt.show()"
   ]
  },
  {
   "cell_type": "code",
   "execution_count": 49,
   "metadata": {},
   "outputs": [
    {
     "data": {
      "image/png": "[encoded data removed]",
      "text/plain": [
       "<Figure size 936x576 with 1 Axes>"
      ]
     },
     "metadata": {},
     "output_type": "display_data"
    }
   ],
   "source": [
    "plt.figure(figsize=(13,8))\n",
    "sns.distplot(train['Violations'], kde=False)\n",
    "plt.show()"
   ]
  },
  {
   "cell_type": "code",
   "execution_count": 50,
   "metadata": {},
   "outputs": [
    {
     "data": {
      "image/png": "[encoded data removed]",
      "text/plain": [
       "<Figure size 936x576 with 1 Axes>"
      ]
     },
     "metadata": {},
     "output_type": "display_data"
    }
   ],
   "source": [
    "plt.figure(figsize=(13,8))\n",
    "sns.distplot(train['Adverse_Weather_Metric'], kde=False)\n",
    "plt.show()"
   ]
  },
  {
   "cell_type": "raw",
   "metadata": {},
   "source": [
    "test[\"Total_Safety_Complaints\"]=np.log(test[\"Total_Safety_Complaints\"]+0.0000001)\n",
    "test[\"Adverse_Weather_Metric\"]=np.log(test[\"Adverse_Weather_Metric\"])\n",
    "train[\"Total_Safety_Complaints\"]=np.log(train[\"Total_Safety_Complaints\"]+0.0000001)\n",
    "train[\"Adverse_Weather_Metric\"]=np.log(train[\"Adverse_Weather_Metric\"])"
   ]
  },
  {
   "cell_type": "code",
   "execution_count": 51,
   "metadata": {},
   "outputs": [
    {
     "data": {
      "text/html": [
       "<div>\n",
       "<style scoped>\n",
       "    .dataframe tbody tr th:only-of-type {\n",
       "        vertical-align: middle;\n",
       "    }\n",
       "\n",
       "    .dataframe tbody tr th {\n",
       "        vertical-align: top;\n",
       "    }\n",
       "\n",
       "    .dataframe thead th {\n",
       "        text-align: right;\n",
       "    }\n",
       "</style>\n",
       "<table border=\"1\" class=\"dataframe\">\n",
       "  <thead>\n",
       "    <tr style=\"text-align: right;\">\n",
       "      <th></th>\n",
       "      <th>Accident_ID</th>\n",
       "      <th>Accident_Type_Code</th>\n",
       "      <th>Adverse_Weather_Metric</th>\n",
       "      <th>Cabin_Temperature</th>\n",
       "      <th>Control_Metric</th>\n",
       "      <th>Days_Since_Inspection</th>\n",
       "      <th>Max_Elevation</th>\n",
       "      <th>Safety_Score</th>\n",
       "      <th>Severity</th>\n",
       "      <th>Total_Safety_Complaints</th>\n",
       "      <th>Turbulence_In_gforces</th>\n",
       "      <th>Violations</th>\n",
       "    </tr>\n",
       "  </thead>\n",
       "  <tbody>\n",
       "    <tr>\n",
       "      <td>0</td>\n",
       "      <td>7570</td>\n",
       "      <td>2</td>\n",
       "      <td>0.424352</td>\n",
       "      <td>78.04</td>\n",
       "      <td>71.285324</td>\n",
       "      <td>14</td>\n",
       "      <td>31335.476824</td>\n",
       "      <td>49.223744</td>\n",
       "      <td>Minor_Damage_And_Injuries</td>\n",
       "      <td>22</td>\n",
       "      <td>0.272118</td>\n",
       "      <td>3</td>\n",
       "    </tr>\n",
       "    <tr>\n",
       "      <td>1</td>\n",
       "      <td>12128</td>\n",
       "      <td>2</td>\n",
       "      <td>0.352350</td>\n",
       "      <td>84.54</td>\n",
       "      <td>72.288058</td>\n",
       "      <td>10</td>\n",
       "      <td>26024.711057</td>\n",
       "      <td>62.465753</td>\n",
       "      <td>Minor_Damage_And_Injuries</td>\n",
       "      <td>27</td>\n",
       "      <td>0.423939</td>\n",
       "      <td>2</td>\n",
       "    </tr>\n",
       "    <tr>\n",
       "      <td>2</td>\n",
       "      <td>2181</td>\n",
       "      <td>7</td>\n",
       "      <td>0.003364</td>\n",
       "      <td>78.86</td>\n",
       "      <td>66.362808</td>\n",
       "      <td>13</td>\n",
       "      <td>39269.053927</td>\n",
       "      <td>63.059361</td>\n",
       "      <td>Significant_Damage_And_Fatalities</td>\n",
       "      <td>16</td>\n",
       "      <td>0.322604</td>\n",
       "      <td>3</td>\n",
       "    </tr>\n",
       "    <tr>\n",
       "      <td>3</td>\n",
       "      <td>5946</td>\n",
       "      <td>3</td>\n",
       "      <td>0.211728</td>\n",
       "      <td>81.79</td>\n",
       "      <td>74.703737</td>\n",
       "      <td>11</td>\n",
       "      <td>42771.499200</td>\n",
       "      <td>48.082192</td>\n",
       "      <td>Significant_Damage_And_Serious_Injuries</td>\n",
       "      <td>9</td>\n",
       "      <td>0.337029</td>\n",
       "      <td>1</td>\n",
       "    </tr>\n",
       "    <tr>\n",
       "      <td>4</td>\n",
       "      <td>9054</td>\n",
       "      <td>3</td>\n",
       "      <td>0.176883</td>\n",
       "      <td>77.16</td>\n",
       "      <td>47.948952</td>\n",
       "      <td>13</td>\n",
       "      <td>35509.228515</td>\n",
       "      <td>26.484018</td>\n",
       "      <td>Significant_Damage_And_Fatalities</td>\n",
       "      <td>25</td>\n",
       "      <td>0.541140</td>\n",
       "      <td>2</td>\n",
       "    </tr>\n",
       "  </tbody>\n",
       "</table>\n",
       "</div>"
      ],
      "text/plain": [
       "   Accident_ID  Accident_Type_Code  Adverse_Weather_Metric  Cabin_Temperature  \\\n",
       "0         7570                   2                0.424352              78.04   \n",
       "1        12128                   2                0.352350              84.54   \n",
       "2         2181                   7                0.003364              78.86   \n",
       "3         5946                   3                0.211728              81.79   \n",
       "4         9054                   3                0.176883              77.16   \n",
       "\n",
       "   Control_Metric  Days_Since_Inspection  Max_Elevation  Safety_Score  \\\n",
       "0       71.285324                     14   31335.476824     49.223744   \n",
       "1       72.288058                     10   26024.711057     62.465753   \n",
       "2       66.362808                     13   39269.053927     63.059361   \n",
       "3       74.703737                     11   42771.499200     48.082192   \n",
       "4       47.948952                     13   35509.228515     26.484018   \n",
       "\n",
       "                                  Severity  Total_Safety_Complaints  \\\n",
       "0                Minor_Damage_And_Injuries                       22   \n",
       "1                Minor_Damage_And_Injuries                       27   \n",
       "2        Significant_Damage_And_Fatalities                       16   \n",
       "3  Significant_Damage_And_Serious_Injuries                        9   \n",
       "4        Significant_Damage_And_Fatalities                       25   \n",
       "\n",
       "   Turbulence_In_gforces  Violations  \n",
       "0               0.272118           3  \n",
       "1               0.423939           2  \n",
       "2               0.322604           3  \n",
       "3               0.337029           1  \n",
       "4               0.541140           2  "
      ]
     },
     "execution_count": 51,
     "metadata": {},
     "output_type": "execute_result"
    }
   ],
   "source": [
    "data.head()"
   ]
  },
  {
   "cell_type": "code",
   "execution_count": 52,
   "metadata": {},
   "outputs": [
    {
     "data": {
      "text/html": [
       "<div>\n",
       "<style scoped>\n",
       "    .dataframe tbody tr th:only-of-type {\n",
       "        vertical-align: middle;\n",
       "    }\n",
       "\n",
       "    .dataframe tbody tr th {\n",
       "        vertical-align: top;\n",
       "    }\n",
       "\n",
       "    .dataframe thead th {\n",
       "        text-align: right;\n",
       "    }\n",
       "</style>\n",
       "<table border=\"1\" class=\"dataframe\">\n",
       "  <thead>\n",
       "    <tr style=\"text-align: right;\">\n",
       "      <th></th>\n",
       "      <th>Safety_Score</th>\n",
       "      <th>Days_Since_Inspection</th>\n",
       "      <th>Total_Safety_Complaints</th>\n",
       "      <th>Control_Metric</th>\n",
       "      <th>Turbulence_In_gforces</th>\n",
       "      <th>Cabin_Temperature</th>\n",
       "      <th>Accident_Type_Code</th>\n",
       "      <th>Max_Elevation</th>\n",
       "      <th>Violations</th>\n",
       "      <th>Adverse_Weather_Metric</th>\n",
       "      <th>Accident_ID</th>\n",
       "    </tr>\n",
       "  </thead>\n",
       "  <tbody>\n",
       "    <tr>\n",
       "      <td>0</td>\n",
       "      <td>19.497717</td>\n",
       "      <td>16</td>\n",
       "      <td>6</td>\n",
       "      <td>72.151322</td>\n",
       "      <td>0.388959</td>\n",
       "      <td>78.32</td>\n",
       "      <td>4</td>\n",
       "      <td>37949.724386</td>\n",
       "      <td>2</td>\n",
       "      <td>0.069692</td>\n",
       "      <td>1</td>\n",
       "    </tr>\n",
       "    <tr>\n",
       "      <td>1</td>\n",
       "      <td>58.173516</td>\n",
       "      <td>15</td>\n",
       "      <td>3</td>\n",
       "      <td>64.585232</td>\n",
       "      <td>0.250841</td>\n",
       "      <td>78.60</td>\n",
       "      <td>7</td>\n",
       "      <td>30194.805567</td>\n",
       "      <td>2</td>\n",
       "      <td>0.002777</td>\n",
       "      <td>10</td>\n",
       "    </tr>\n",
       "    <tr>\n",
       "      <td>2</td>\n",
       "      <td>33.287671</td>\n",
       "      <td>15</td>\n",
       "      <td>3</td>\n",
       "      <td>64.721969</td>\n",
       "      <td>0.336669</td>\n",
       "      <td>86.96</td>\n",
       "      <td>6</td>\n",
       "      <td>17572.925484</td>\n",
       "      <td>1</td>\n",
       "      <td>0.004316</td>\n",
       "      <td>14</td>\n",
       "    </tr>\n",
       "    <tr>\n",
       "      <td>3</td>\n",
       "      <td>3.287671</td>\n",
       "      <td>21</td>\n",
       "      <td>5</td>\n",
       "      <td>66.362808</td>\n",
       "      <td>0.421775</td>\n",
       "      <td>80.86</td>\n",
       "      <td>3</td>\n",
       "      <td>40209.186341</td>\n",
       "      <td>2</td>\n",
       "      <td>0.199990</td>\n",
       "      <td>17</td>\n",
       "    </tr>\n",
       "    <tr>\n",
       "      <td>4</td>\n",
       "      <td>10.867580</td>\n",
       "      <td>18</td>\n",
       "      <td>2</td>\n",
       "      <td>56.107566</td>\n",
       "      <td>0.313228</td>\n",
       "      <td>79.22</td>\n",
       "      <td>2</td>\n",
       "      <td>35495.525408</td>\n",
       "      <td>2</td>\n",
       "      <td>0.483696</td>\n",
       "      <td>21</td>\n",
       "    </tr>\n",
       "  </tbody>\n",
       "</table>\n",
       "</div>"
      ],
      "text/plain": [
       "   Safety_Score  Days_Since_Inspection  Total_Safety_Complaints  \\\n",
       "0     19.497717                     16                        6   \n",
       "1     58.173516                     15                        3   \n",
       "2     33.287671                     15                        3   \n",
       "3      3.287671                     21                        5   \n",
       "4     10.867580                     18                        2   \n",
       "\n",
       "   Control_Metric  Turbulence_In_gforces  Cabin_Temperature  \\\n",
       "0       72.151322               0.388959              78.32   \n",
       "1       64.585232               0.250841              78.60   \n",
       "2       64.721969               0.336669              86.96   \n",
       "3       66.362808               0.421775              80.86   \n",
       "4       56.107566               0.313228              79.22   \n",
       "\n",
       "   Accident_Type_Code  Max_Elevation  Violations  Adverse_Weather_Metric  \\\n",
       "0                   4   37949.724386           2                0.069692   \n",
       "1                   7   30194.805567           2                0.002777   \n",
       "2                   6   17572.925484           1                0.004316   \n",
       "3                   3   40209.186341           2                0.199990   \n",
       "4                   2   35495.525408           2                0.483696   \n",
       "\n",
       "   Accident_ID  \n",
       "0            1  \n",
       "1           10  \n",
       "2           14  \n",
       "3           17  \n",
       "4           21  "
      ]
     },
     "execution_count": 52,
     "metadata": {},
     "output_type": "execute_result"
    }
   ],
   "source": [
    "test.head()"
   ]
  },
  {
   "cell_type": "markdown",
   "metadata": {},
   "source": [
    "test[\"Safety_Score\"]=1/(test[\"Safety_Score\"]+0.0000001)\n",
    "test[\"Control_Metric\"]=1/(test[\"Control_Metric\"]+0.000001)\n",
    "train[\"Safety_Score\"]=1/(train[\"Safety_Score\"]+0.0000001)\n",
    "train[\"Control_Metric\"]=1/(train[\"Control_Metric\"]+0.000001)\n",
    "#data[\"Adverse_Weather_Metric\"]=1/data[\"Adverse_Weather_Metric\"]"
   ]
  },
  {
   "cell_type": "markdown",
   "metadata": {},
   "source": [
    "train.loc[train.Safety_Score > 100,'Safety_Score']=100 \n",
    "train.loc[train.Control_Metric > 100,'Control_Metric']=100 \n",
    "test.loc[test.Safety_Score > 100,'Safety_Score']=100 \n",
    "test.loc[test.Control_Metric > 100,'Control_Metric']=100 "
   ]
  },
  {
   "cell_type": "code",
   "execution_count": 53,
   "metadata": {},
   "outputs": [],
   "source": [
    "test.set_index(\"Accident_ID\",inplace=True)\n",
    "train.set_index(\"Accident_ID\",inplace=True)"
   ]
  },
  {
   "cell_type": "code",
   "execution_count": 54,
   "metadata": {},
   "outputs": [
    {
     "data": {
      "text/plain": [
       "Index(['Severity', 'Safety_Score', 'Days_Since_Inspection',\n",
       "       'Total_Safety_Complaints', 'Control_Metric', 'Turbulence_In_gforces',\n",
       "       'Cabin_Temperature', 'Accident_Type_Code', 'Max_Elevation',\n",
       "       'Violations', 'Adverse_Weather_Metric'],\n",
       "      dtype='object')"
      ]
     },
     "execution_count": 54,
     "metadata": {},
     "output_type": "execute_result"
    }
   ],
   "source": [
    "train.columns"
   ]
  },
  {
   "cell_type": "code",
   "execution_count": 55,
   "metadata": {},
   "outputs": [],
   "source": [
    "test.drop([\"Accident_Type_Code\",\"Violations\",\"Max_Elevation\",\"Cabin_Temperature\",\"Turbulence_In_gforces\",\"Total_Safety_Complaints\",\"Adverse_Weather_Metric\"],inplace=True,axis=1)\n",
    "train.drop([\"Accident_Type_Code\",\"Violations\",\"Max_Elevation\",\"Cabin_Temperature\",\"Turbulence_In_gforces\",\"Total_Safety_Complaints\",\"Adverse_Weather_Metric\"],inplace=True,axis=1)\n",
    "#data.drop(\"Adverse_Weather_Metric\",inplace=True,axis=1)\n"
   ]
  },
  {
   "cell_type": "code",
   "execution_count": 56,
   "metadata": {},
   "outputs": [
    {
     "data": {
      "text/plain": [
       "0    3049\n",
       "3    2729\n",
       "1    2527\n",
       "2    1695\n",
       "Name: Severity, dtype: int64"
      ]
     },
     "execution_count": 56,
     "metadata": {},
     "output_type": "execute_result"
    }
   ],
   "source": [
    "train[\"Severity\"].value_counts()"
   ]
  },
  {
   "cell_type": "code",
   "execution_count": 57,
   "metadata": {},
   "outputs": [
    {
     "data": {
      "text/html": [
       "<div>\n",
       "<style scoped>\n",
       "    .dataframe tbody tr th:only-of-type {\n",
       "        vertical-align: middle;\n",
       "    }\n",
       "\n",
       "    .dataframe tbody tr th {\n",
       "        vertical-align: top;\n",
       "    }\n",
       "\n",
       "    .dataframe thead th {\n",
       "        text-align: right;\n",
       "    }\n",
       "</style>\n",
       "<table border=\"1\" class=\"dataframe\">\n",
       "  <thead>\n",
       "    <tr style=\"text-align: right;\">\n",
       "      <th></th>\n",
       "      <th>Severity</th>\n",
       "      <th>Safety_Score</th>\n",
       "      <th>Days_Since_Inspection</th>\n",
       "      <th>Control_Metric</th>\n",
       "    </tr>\n",
       "    <tr>\n",
       "      <th>Accident_ID</th>\n",
       "      <th></th>\n",
       "      <th></th>\n",
       "      <th></th>\n",
       "      <th></th>\n",
       "    </tr>\n",
       "  </thead>\n",
       "  <tbody>\n",
       "    <tr>\n",
       "      <td>7570</td>\n",
       "      <td>1</td>\n",
       "      <td>49.223744</td>\n",
       "      <td>14</td>\n",
       "      <td>71.285324</td>\n",
       "    </tr>\n",
       "    <tr>\n",
       "      <td>12128</td>\n",
       "      <td>1</td>\n",
       "      <td>62.465753</td>\n",
       "      <td>10</td>\n",
       "      <td>72.288058</td>\n",
       "    </tr>\n",
       "    <tr>\n",
       "      <td>2181</td>\n",
       "      <td>2</td>\n",
       "      <td>63.059361</td>\n",
       "      <td>13</td>\n",
       "      <td>66.362808</td>\n",
       "    </tr>\n",
       "    <tr>\n",
       "      <td>5946</td>\n",
       "      <td>3</td>\n",
       "      <td>48.082192</td>\n",
       "      <td>11</td>\n",
       "      <td>74.703737</td>\n",
       "    </tr>\n",
       "    <tr>\n",
       "      <td>9054</td>\n",
       "      <td>2</td>\n",
       "      <td>26.484018</td>\n",
       "      <td>13</td>\n",
       "      <td>47.948952</td>\n",
       "    </tr>\n",
       "  </tbody>\n",
       "</table>\n",
       "</div>"
      ],
      "text/plain": [
       "             Severity  Safety_Score  Days_Since_Inspection  Control_Metric\n",
       "Accident_ID                                                               \n",
       "7570                1     49.223744                     14       71.285324\n",
       "12128               1     62.465753                     10       72.288058\n",
       "2181                2     63.059361                     13       66.362808\n",
       "5946                3     48.082192                     11       74.703737\n",
       "9054                2     26.484018                     13       47.948952"
      ]
     },
     "execution_count": 57,
     "metadata": {},
     "output_type": "execute_result"
    }
   ],
   "source": [
    "train.head()"
   ]
  },
  {
   "cell_type": "code",
   "execution_count": 58,
   "metadata": {},
   "outputs": [
    {
     "name": "stdout",
     "output_type": "stream",
     "text": [
      "(10000, 4) (2500, 3)\n"
     ]
    }
   ],
   "source": [
    "print(train.shape,test.shape)"
   ]
  },
  {
   "cell_type": "code",
   "execution_count": 59,
   "metadata": {},
   "outputs": [
    {
     "data": {
      "text/html": [
       "<div>\n",
       "<style scoped>\n",
       "    .dataframe tbody tr th:only-of-type {\n",
       "        vertical-align: middle;\n",
       "    }\n",
       "\n",
       "    .dataframe tbody tr th {\n",
       "        vertical-align: top;\n",
       "    }\n",
       "\n",
       "    .dataframe thead th {\n",
       "        text-align: right;\n",
       "    }\n",
       "</style>\n",
       "<table border=\"1\" class=\"dataframe\">\n",
       "  <thead>\n",
       "    <tr style=\"text-align: right;\">\n",
       "      <th></th>\n",
       "      <th>Safety_Score</th>\n",
       "      <th>Days_Since_Inspection</th>\n",
       "      <th>Control_Metric</th>\n",
       "    </tr>\n",
       "    <tr>\n",
       "      <th>Accident_ID</th>\n",
       "      <th></th>\n",
       "      <th></th>\n",
       "      <th></th>\n",
       "    </tr>\n",
       "  </thead>\n",
       "  <tbody>\n",
       "    <tr>\n",
       "      <td>1</td>\n",
       "      <td>19.497717</td>\n",
       "      <td>16</td>\n",
       "      <td>72.151322</td>\n",
       "    </tr>\n",
       "    <tr>\n",
       "      <td>10</td>\n",
       "      <td>58.173516</td>\n",
       "      <td>15</td>\n",
       "      <td>64.585232</td>\n",
       "    </tr>\n",
       "    <tr>\n",
       "      <td>14</td>\n",
       "      <td>33.287671</td>\n",
       "      <td>15</td>\n",
       "      <td>64.721969</td>\n",
       "    </tr>\n",
       "    <tr>\n",
       "      <td>17</td>\n",
       "      <td>3.287671</td>\n",
       "      <td>21</td>\n",
       "      <td>66.362808</td>\n",
       "    </tr>\n",
       "    <tr>\n",
       "      <td>21</td>\n",
       "      <td>10.867580</td>\n",
       "      <td>18</td>\n",
       "      <td>56.107566</td>\n",
       "    </tr>\n",
       "  </tbody>\n",
       "</table>\n",
       "</div>"
      ],
      "text/plain": [
       "             Safety_Score  Days_Since_Inspection  Control_Metric\n",
       "Accident_ID                                                     \n",
       "1               19.497717                     16       72.151322\n",
       "10              58.173516                     15       64.585232\n",
       "14              33.287671                     15       64.721969\n",
       "17               3.287671                     21       66.362808\n",
       "21              10.867580                     18       56.107566"
      ]
     },
     "execution_count": 59,
     "metadata": {},
     "output_type": "execute_result"
    }
   ],
   "source": [
    "test.head()"
   ]
  },
  {
   "cell_type": "code",
   "execution_count": 60,
   "metadata": {
    "scrolled": true
   },
   "outputs": [
    {
     "data": {
      "text/plain": [
       "<matplotlib.axes._subplots.AxesSubplot at 0x10bac01d0>"
      ]
     },
     "execution_count": 60,
     "metadata": {},
     "output_type": "execute_result"
    },
    {
     "data": {
      "image/png": "[encoded data removed]",
      "text/plain": [
       "<Figure size 2160x720 with 2 Axes>"
      ]
     },
     "metadata": {},
     "output_type": "display_data"
    }
   ],
   "source": [
    "import numpy as np\n",
    "corr = train.corr()\n",
    "# Generate a custom diverging colormap\n",
    "cmap = sns.diverging_palette(220, 10, as_cmap=True)\n",
    "mask = np.zeros_like(corr, dtype=np.bool)\n",
    "mask[np.triu_indices_from(mask)] = True\n",
    "plt.figure(figsize=(30,10))\n",
    "# Draw the heatmap with the mask and correct aspect ratio\n",
    "sns.heatmap(corr, mask=mask, vmax=.3, center=0,\n",
    "            square=True, linewidths=.5, cbar_kws={\"shrink\": .5},annot=True,cmap = \"coolwarm\")"
   ]
  },
  {
   "cell_type": "code",
   "execution_count": 61,
   "metadata": {},
   "outputs": [
    {
     "name": "stdout",
     "output_type": "stream",
     "text": [
      "Feature Length : 3\n"
     ]
    }
   ],
   "source": [
    "target=\"Severity\"\n",
    "feat= train.columns.tolist()\n",
    "feat.remove(target)\n",
    "print(\"Feature Length : {}\".format(len(feat)))"
   ]
  },
  {
   "cell_type": "code",
   "execution_count": 62,
   "metadata": {},
   "outputs": [],
   "source": [
    "X,y=train.drop(target,axis=1),train[target]\n",
    "from sklearn.model_selection import train_test_split\n",
    "from sklearn.metrics import accuracy_score,f1_score\n",
    "X_train,X_val,y_train,y_val = train_test_split(X,y,test_size=0.3,random_state = 1994)"
   ]
  },
  {
   "cell_type": "code",
   "execution_count": 63,
   "metadata": {},
   "outputs": [
    {
     "data": {
      "text/html": [
       "<div>\n",
       "<style scoped>\n",
       "    .dataframe tbody tr th:only-of-type {\n",
       "        vertical-align: middle;\n",
       "    }\n",
       "\n",
       "    .dataframe tbody tr th {\n",
       "        vertical-align: top;\n",
       "    }\n",
       "\n",
       "    .dataframe thead th {\n",
       "        text-align: right;\n",
       "    }\n",
       "</style>\n",
       "<table border=\"1\" class=\"dataframe\">\n",
       "  <thead>\n",
       "    <tr style=\"text-align: right;\">\n",
       "      <th></th>\n",
       "      <th>Safety_Score</th>\n",
       "      <th>Days_Since_Inspection</th>\n",
       "      <th>Control_Metric</th>\n",
       "    </tr>\n",
       "    <tr>\n",
       "      <th>Accident_ID</th>\n",
       "      <th></th>\n",
       "      <th></th>\n",
       "      <th></th>\n",
       "    </tr>\n",
       "  </thead>\n",
       "  <tbody>\n",
       "    <tr>\n",
       "      <td>9680</td>\n",
       "      <td>66.255708</td>\n",
       "      <td>12</td>\n",
       "      <td>62.306290</td>\n",
       "    </tr>\n",
       "    <tr>\n",
       "      <td>4619</td>\n",
       "      <td>52.557078</td>\n",
       "      <td>13</td>\n",
       "      <td>58.021878</td>\n",
       "    </tr>\n",
       "    <tr>\n",
       "      <td>8065</td>\n",
       "      <td>36.849315</td>\n",
       "      <td>14</td>\n",
       "      <td>55.241568</td>\n",
       "    </tr>\n",
       "    <tr>\n",
       "      <td>5431</td>\n",
       "      <td>44.018265</td>\n",
       "      <td>15</td>\n",
       "      <td>67.684594</td>\n",
       "    </tr>\n",
       "    <tr>\n",
       "      <td>9497</td>\n",
       "      <td>49.178082</td>\n",
       "      <td>14</td>\n",
       "      <td>59.981768</td>\n",
       "    </tr>\n",
       "  </tbody>\n",
       "</table>\n",
       "</div>"
      ],
      "text/plain": [
       "             Safety_Score  Days_Since_Inspection  Control_Metric\n",
       "Accident_ID                                                     \n",
       "9680            66.255708                     12       62.306290\n",
       "4619            52.557078                     13       58.021878\n",
       "8065            36.849315                     14       55.241568\n",
       "5431            44.018265                     15       67.684594\n",
       "9497            49.178082                     14       59.981768"
      ]
     },
     "execution_count": 63,
     "metadata": {},
     "output_type": "execute_result"
    }
   ],
   "source": [
    "X_train.head()"
   ]
  },
  {
   "cell_type": "code",
   "execution_count": 64,
   "metadata": {},
   "outputs": [
    {
     "data": {
      "text/plain": [
       "Accident_ID\n",
       "9680    2\n",
       "4619    1\n",
       "8065    1\n",
       "5431    1\n",
       "9497    1\n",
       "Name: Severity, dtype: int64"
      ]
     },
     "execution_count": 64,
     "metadata": {},
     "output_type": "execute_result"
    }
   ],
   "source": [
    "y_train.head()"
   ]
  },
  {
   "cell_type": "code",
   "execution_count": 65,
   "metadata": {},
   "outputs": [
    {
     "data": {
      "text/plain": [
       "Accident_ID\n",
       "6013    3\n",
       "7549    3\n",
       "6363    0\n",
       "9197    0\n",
       "4963    1\n",
       "Name: Severity, dtype: int64"
      ]
     },
     "execution_count": 65,
     "metadata": {},
     "output_type": "execute_result"
    }
   ],
   "source": [
    "y_val.head()"
   ]
  },
  {
   "cell_type": "markdown",
   "metadata": {},
   "source": [
    "# Feature Scaling\n",
    "from sklearn.preprocessing import StandardScaler\n",
    "sc = StandardScaler()\n",
    "X_train = sc.fit_transform(X_train)\n",
    "X_test = sc.transform(X_val)\n",
    "X_final = sc.transform(X.copy())"
   ]
  },
  {
   "cell_type": "code",
   "execution_count": 66,
   "metadata": {},
   "outputs": [],
   "source": [
    "def baseliner(X_data, y_data, scoring='accuracy', cv=3, Z=2):\n",
    "    print(\"Baseliner Models(All)\")\n",
    "    eval_dict = {}\n",
    "    models = [\n",
    "        KNeighborsClassifier(),\n",
    "        lgb.LGBMClassifier(), ExtraTreesClassifier(), xgb.XGBClassifier(objective='binary:logistic'), \n",
    "        cat.CatBoostClassifier(verbose=0), GradientBoostingClassifier(), RandomForestClassifier(), \n",
    "        LogisticRegression(), DecisionTreeClassifier(), ExtraTreeClassifier(), AdaBoostClassifier(), \n",
    "        BaggingClassifier()\n",
    "        ] #SVR(), \n",
    "\n",
    "    print(\"sklearn Model Name  \\t  CV\")\n",
    "    print(\"--\" * 50)\n",
    "\n",
    "    for index, model in enumerate(models, 0):\n",
    "        model_name = str(model).split(\"(\")[0]\n",
    "        eval_dict[model_name] = {}\n",
    "        \n",
    "    \n",
    "        classes = y_data.unique()\n",
    "    \n",
    "    # Execute Cross Validation\n",
    "        results = cross_val_score(estimator=model, X=X_data, y=y_data, cv=5, scoring=scoring)\n",
    "        eval_dict[model_name]['cv'] = results.mean()\n",
    "\n",
    "        print(\"%s \\t %.4f \\t\" % (\n",
    "            model_name[:21], eval_dict[model_name]['cv']))"
   ]
  },
  {
   "cell_type": "code",
   "execution_count": 67,
   "metadata": {
    "scrolled": false
   },
   "outputs": [
    {
     "name": "stdout",
     "output_type": "stream",
     "text": [
      "Baseliner Models(All)\n",
      "sklearn Model Name  \t  CV\n",
      "----------------------------------------------------------------------------------------------------\n",
      "KNeighborsClassifier \t 0.9358 \t\n",
      "LGBMClassifier \t 0.9560 \t\n",
      "ExtraTreesClassifier \t 0.9583 \t\n",
      "XGBClassifier \t 0.8835 \t\n",
      "<catboost.core.CatBoo \t 0.9513 \t\n",
      "GradientBoostingClass \t 0.9064 \t\n",
      "RandomForestClassifie \t 0.9608 \t\n",
      "LogisticRegression \t 0.5552 \t\n",
      "DecisionTreeClassifie \t 0.9573 \t\n",
      "ExtraTreeClassifier \t 0.9026 \t\n",
      "AdaBoostClassifier \t 0.4685 \t\n",
      "BaggingClassifier \t 0.9610 \t\n"
     ]
    }
   ],
   "source": [
    "baseliner(X_data=X, y_data=y, cv=5)"
   ]
  },
  {
   "cell_type": "code",
   "execution_count": null,
   "metadata": {},
   "outputs": [],
   "source": [
    "param_grid={'n_estimators':[500,1000,2500,5000,10000],\n",
    "            'learning_rate': [0.1 , 0.05, 0.02, 0.01],\n",
    "            'max_depth':[6,4,6],\n",
    "            'min_samples_leaf':[3,5,9,17],\n",
    "            'max_features':[1.0,0.3,0.1] \n",
    "           }\n",
    "estimator = GradientBoostingClassifier() \n",
    "#cv = ShuffleSplit(X_train.shape[0], n_iter=10, test_size=0.2)\n",
    "classifier = GridSearchCV(estimator=estimator, cv=5, param_grid=param_grid, n_jobs=-1) #\n",
    "classifier.fit(X, y)\n",
    "print (\"Best Estimator learned through GridSearch\") \n",
    "print (classifier.best_estimator_ )\n",
    "print(classifier.best_params_)\n",
    "#return cv, classifier.best_estimator_"
   ]
  },
  {
   "cell_type": "code",
   "execution_count": 83,
   "metadata": {},
   "outputs": [
    {
     "name": "stdout",
     "output_type": "stream",
     "text": [
      "GridSearchCV(cv='warn', error_score='raise-deprecating',\n",
      "             estimator=BaggingClassifier(base_estimator=DecisionTreeClassifier(class_weight=None,\n",
      "                                                                               criterion='gini',\n",
      "                                                                               max_depth=None,\n",
      "                                                                               max_features=None,\n",
      "                                                                               max_leaf_nodes=None,\n",
      "                                                                               min_impurity_decrease=0.0,\n",
      "                                                                               min_impurity_split=None,\n",
      "                                                                               min_samples_leaf=1,\n",
      "                                                                               min_samples_split=2,\n",
      "                                                                               min_weight_fraction_leaf=0.0,\n",
      "                                                                               presort=False,\n",
      "                                                                               random_st...\n",
      "                                         bootstrap=True,\n",
      "                                         bootstrap_features=False,\n",
      "                                         max_features=0.5, max_samples=1.0,\n",
      "                                         n_estimators=100, n_jobs=None,\n",
      "                                         oob_score=False, random_state=None,\n",
      "                                         verbose=0, warm_start=False),\n",
      "             iid='warn', n_jobs=None,\n",
      "             param_grid={'base_estimator__max_depth': [1, 2, 3, 4, 5],\n",
      "                         'max_samples': [0.05, 0.1, 0.2, 0.5]},\n",
      "             pre_dispatch='2*n_jobs', refit=True, return_train_score=False,\n",
      "             scoring='accuracy', verbose=0)\n",
      "0.4636317894192958\n"
     ]
    }
   ],
   "source": [
    "model=lgb.LGBMClassifier()\n",
    "model.fit(X_train,y_train)\n",
    "\n",
    "predict = model.predict(X_val)\n",
    "print(model)\n",
    "#print('Predicted Values on Test Data',encode.inverse_transform(predict))\n",
    "\n",
    "#print('\\n\\nAccuracy Score on test data : \\n\\n')\n",
    "print(f1_score(y_val,predict,average='weighted'))"
   ]
  },
  {
   "cell_type": "code",
   "execution_count": 69,
   "metadata": {},
   "outputs": [
    {
     "data": {
      "text/plain": [
       "BaggingClassifier(base_estimator=None, bootstrap=True, bootstrap_features=False,\n",
       "                  max_features=1.0, max_samples=1.0, n_estimators=10,\n",
       "                  n_jobs=None, oob_score=False, random_state=None, verbose=0,\n",
       "                  warm_start=False)"
      ]
     },
     "execution_count": 69,
     "metadata": {},
     "output_type": "execute_result"
    }
   ],
   "source": [
    "model.fit(X,y)"
   ]
  },
  {
   "cell_type": "code",
   "execution_count": null,
   "metadata": {},
   "outputs": [],
   "source": [
    "feat_importances = pd.Series(model.feature_importances_, index=train[feat].columns)\n",
    "feat_importances.nlargest(20).plot(kind='barh')"
   ]
  },
  {
   "cell_type": "code",
   "execution_count": 42,
   "metadata": {},
   "outputs": [],
   "source": [
    "from time import time\n",
    "from scipy.stats import randint as sp_randint\n",
    "\n",
    "from sklearn.model_selection import GridSearchCV\n",
    "from sklearn.model_selection import RandomizedSearchCV\n",
    "clf =lgb.LGBMClassifier()\n",
    "\n",
    "param_grid = {\n",
    "        'silent': [False],\n",
    "        'max_depth': [6, 10, 15, 20],\n",
    "        'learning_rate': [0.03, 0.01,0.05, 0.1, 0.2, 0.3],\n",
    "        'subsample': [0.5, 0.6, 0.7, 0.8, 0.9, 1.0],\n",
    "        'colsample_bytree': [0.4, 0.5, 0.6, 0.7, 0.8, 0.9, 1.0],\n",
    "        'gamma': [0, 0.25, 0.5, 1.0],\n",
    "        'n_estimators': [100,200,500,1000,1500,2000,2500,3000]}\n",
    "\n",
    "def report(results, n_top=3):\n",
    "    for i in range(1, n_top + 1):\n",
    "        candidates = np.flatnonzero(results['rank_test_score'] == i)\n",
    "        for candidate in candidates:\n",
    "            print(\"Model with rank: {0}\".format(i))\n",
    "            print(\"Mean validation score: {0:.3f} (std: {1:.3f})\".format(\n",
    "                  results['mean_test_score'][candidate],\n",
    "                  results['std_test_score'][candidate]))\n",
    "            print(\"Parameters: {0}\".format(results['params'][candidate]))\n",
    "            print(\"\")\n",
    "\n",
    "random_search = RandomizedSearchCV(clf, param_grid, n_iter=20,cv=5,iid=False,random_state=42)"
   ]
  },
  {
   "cell_type": "code",
   "execution_count": null,
   "metadata": {},
   "outputs": [],
   "source": [
    "start = time()\n",
    "random_search.fit(X, y)\n",
    "print(\"RandomizedSearchCV took %.2f seconds for %d candidates\"\n",
    "      \" parameter settings.\" % ((time() - start), 20))\n",
    "report(random_search.cv_results_)\n",
    "\n",
    "best_score = random_search.best_score_\n",
    "best_params = random_search.best_params_\n",
    "print(\"Best score: {}\".format(best_score))\n",
    "print(\"Best params: \")\n",
    "for param_name in sorted(best_params.keys()):    \n",
    "    print('%s: %r' % (param_name, best_params[param_name]))"
   ]
  },
  {
   "cell_type": "code",
   "execution_count": null,
   "metadata": {},
   "outputs": [],
   "source": [
    "model = lgb.LGBMClassifier(colsample_bytree= 0.7,gamma=0.25,learning_rate= 0.3,max_depth= 10,n_estimators= 2500,silent=False,subsample= 0.8)"
   ]
  },
  {
   "cell_type": "code",
   "execution_count": null,
   "metadata": {},
   "outputs": [],
   "source": [
    "model = lgb.LGBMClassifier(colsample_bytree= 0.8,gamma=1.0,learning_rate= 0.03,max_depth= 10,n_estimators= 1500,silent=False,subsample= 0.7)\n",
    "#best till now"
   ]
  },
  {
   "cell_type": "code",
   "execution_count": null,
   "metadata": {},
   "outputs": [],
   "source": [
    "model = lgb.LGBMClassifier(colsample_bytree= 1.0,gamma=0.25,learning_rate= 0.3,max_depth= 20,n_estimators= 200,silent=False,subsample= 0.5)"
   ]
  },
  {
   "cell_type": "code",
   "execution_count": null,
   "metadata": {},
   "outputs": [],
   "source": [
    "#test_scaled=sc.transform(test)"
   ]
  },
  {
   "cell_type": "code",
   "execution_count": null,
   "metadata": {},
   "outputs": [],
   "source": [
    "test.head()"
   ]
  },
  {
   "cell_type": "code",
   "execution_count": 71,
   "metadata": {},
   "outputs": [
    {
     "data": {
      "text/plain": [
       "array([0, 2, 3, ..., 3, 3, 0])"
      ]
     },
     "execution_count": 71,
     "metadata": {},
     "output_type": "execute_result"
    }
   ],
   "source": [
    "pred=model.predict(test)\n",
    "pred"
   ]
  },
  {
   "cell_type": "code",
   "execution_count": 72,
   "metadata": {},
   "outputs": [
    {
     "data": {
      "text/plain": [
       "{0: 765, 1: 673, 2: 407, 3: 655}"
      ]
     },
     "execution_count": 72,
     "metadata": {},
     "output_type": "execute_result"
    }
   ],
   "source": [
    "\n",
    "unique, counts = np.unique(pred, return_counts=True)\n",
    "dict(zip(unique, counts))"
   ]
  },
  {
   "cell_type": "code",
   "execution_count": null,
   "metadata": {},
   "outputs": [],
   "source": [
    "'''pred1=pred\n",
    "pred=[]\n",
    "for i in pred1:\n",
    "    pred.append(i[0])\n",
    "   '''"
   ]
  },
  {
   "cell_type": "code",
   "execution_count": 73,
   "metadata": {},
   "outputs": [
    {
     "name": "stdout",
     "output_type": "stream",
     "text": [
      "(2500,)\n"
     ]
    }
   ],
   "source": [
    "# load loan_id of test dataset\n",
    "test_id = pd.read_csv('data/test.csv')['Accident_ID']\n",
    "print(test_id.shape)"
   ]
  },
  {
   "cell_type": "code",
   "execution_count": 74,
   "metadata": {},
   "outputs": [],
   "source": [
    "submit = pd.DataFrame({'Accident_ID': test_id, 'Severity': pred})\n",
    "submit = submit[['Accident_ID','Severity']]  "
   ]
  },
  {
   "cell_type": "code",
   "execution_count": 75,
   "metadata": {},
   "outputs": [],
   "source": [
    "ord1dict = {1:\"Minor_Damage_And_Injuries\", 2:\"Significant_Damage_And_Fatalities\",3: \"Significant_Damage_And_Serious_Injuries\",0:\"Highly_Fatal_And_Damaging\"}\n",
    "submit['Severity'] = submit['Severity'].map(ord1dict)"
   ]
  },
  {
   "cell_type": "code",
   "execution_count": 76,
   "metadata": {},
   "outputs": [],
   "source": [
    "submit.to_csv(\"new.csv\", index=False)"
   ]
  },
  {
   "cell_type": "code",
   "execution_count": 77,
   "metadata": {},
   "outputs": [
    {
     "data": {
      "text/html": [
       "<div>\n",
       "<style scoped>\n",
       "    .dataframe tbody tr th:only-of-type {\n",
       "        vertical-align: middle;\n",
       "    }\n",
       "\n",
       "    .dataframe tbody tr th {\n",
       "        vertical-align: top;\n",
       "    }\n",
       "\n",
       "    .dataframe thead th {\n",
       "        text-align: right;\n",
       "    }\n",
       "</style>\n",
       "<table border=\"1\" class=\"dataframe\">\n",
       "  <thead>\n",
       "    <tr style=\"text-align: right;\">\n",
       "      <th></th>\n",
       "      <th>Accident_ID</th>\n",
       "      <th>Severity</th>\n",
       "    </tr>\n",
       "  </thead>\n",
       "  <tbody>\n",
       "    <tr>\n",
       "      <td>0</td>\n",
       "      <td>1</td>\n",
       "      <td>Highly_Fatal_And_Damaging</td>\n",
       "    </tr>\n",
       "    <tr>\n",
       "      <td>1</td>\n",
       "      <td>10</td>\n",
       "      <td>Significant_Damage_And_Fatalities</td>\n",
       "    </tr>\n",
       "    <tr>\n",
       "      <td>2</td>\n",
       "      <td>14</td>\n",
       "      <td>Significant_Damage_And_Serious_Injuries</td>\n",
       "    </tr>\n",
       "    <tr>\n",
       "      <td>3</td>\n",
       "      <td>17</td>\n",
       "      <td>Minor_Damage_And_Injuries</td>\n",
       "    </tr>\n",
       "    <tr>\n",
       "      <td>4</td>\n",
       "      <td>21</td>\n",
       "      <td>Significant_Damage_And_Fatalities</td>\n",
       "    </tr>\n",
       "  </tbody>\n",
       "</table>\n",
       "</div>"
      ],
      "text/plain": [
       "   Accident_ID                                 Severity\n",
       "0            1                Highly_Fatal_And_Damaging\n",
       "1           10        Significant_Damage_And_Fatalities\n",
       "2           14  Significant_Damage_And_Serious_Injuries\n",
       "3           17                Minor_Damage_And_Injuries\n",
       "4           21        Significant_Damage_And_Fatalities"
      ]
     },
     "execution_count": 77,
     "metadata": {},
     "output_type": "execute_result"
    }
   ],
   "source": [
    "submit.head()"
   ]
  },
  {
   "cell_type": "code",
   "execution_count": null,
   "metadata": {},
   "outputs": [],
   "source": []
  },
  {
   "cell_type": "code",
   "execution_count": null,
   "metadata": {},
   "outputs": [],
   "source": [
    "\n"
   ]
  }
 ],
 "metadata": {
  "kernelspec": {
   "display_name": "Python 3",
   "language": "python",
   "name": "python3"
  },
  "language_info": {
   "codemirror_mode": {
    "name": "ipython",
    "version": 3
   },
   "file_extension": ".py",
   "mimetype": "text/x-python",
   "name": "python",
   "nbconvert_exporter": "python",
   "pygments_lexer": "ipython3",
   "version": "3.7.4"
  }
 },
 "nbformat": 4,
 "nbformat_minor": 2
}
